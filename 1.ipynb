{
 "cells": [
  {
   "cell_type": "code",
   "execution_count": 1,
   "metadata": {},
   "outputs": [
    {
     "name": "stdout",
     "output_type": "stream",
     "text": [
      "    ObjectID  TimeIndex Direction Node Type\n",
      "0          1          0        EW   SS   CK\n",
      "1          1          0        NS   SS   NK\n",
      "2          1        168        NS   IK   CK\n",
      "3          1       2171        ES   ES   ES\n",
      "4          2          0        EW   SS   HK\n",
      "5          2          0        NS   SS   HK\n",
      "6          2       2171        ES   ES   ES\n",
      "7          3          0        EW   SS   CK\n",
      "8          3          0        NS   SS   CK\n",
      "9          3       2171        ES   ES   ES\n",
      "10         4          0        EW   SS   HK\n",
      "11         4          0        NS   SS   HK\n",
      "12         4       2171        ES   ES   ES\n",
      "13         5          0        EW   SS   EK\n",
      "14         5          0        NS   SS   CK\n",
      "15         5       2171        ES   ES   ES\n",
      "16         6          0        EW   SS   CK\n",
      "17         6          0        NS   SS   CK\n",
      "18         6       2171        ES   ES   ES\n",
      "19         7          0        EW   SS   CK\n",
      "20         7          0        NS   SS   CK\n",
      "21         7       2171        ES   ES   ES\n",
      "22         8          0        EW   SS   CK\n",
      "23         8          0        NS   SS   CK\n",
      "24         8       2171        ES   ES   ES\n",
      "25         9          0        EW   SS   CK\n",
      "26         9          0        NS   SS   NK\n",
      "27         9        324        NS   IK   CK\n",
      "28         9       2171        ES   ES   ES\n",
      "29        10          0        EW   SS   CK\n",
      "30        10          0        NS   SS   NK\n",
      "31        10        216        NS   IK   CK\n",
      "32        10       2171        ES   ES   ES\n",
      "33        11          0        EW   SS   HK\n",
      "34        11          0        NS   SS   HK\n",
      "35        11       2171        ES   ES   ES\n",
      "36        12          0        EW   SS   HK\n",
      "37        12          0        NS   SS   HK\n",
      "38        12       2171        ES   ES   ES\n",
      "39        13          0        EW   SS   HK\n",
      "40        13          0        NS   SS   NK\n",
      "41        13        228        NS   IK   HK\n",
      "42        13       2171        ES   ES   ES\n",
      "43        14          0        EW   SS   HK\n",
      "44        14          0        NS   SS   HK\n",
      "45        14       2171        ES   ES   ES\n",
      "46        15          0        EW   SS   EK\n",
      "47        15          0        NS   SS   CK\n",
      "48        15       2171        ES   ES   ES\n",
      "49        16          0        EW   SS   CK\n",
      "50        16          0        NS   SS   CK\n",
      "51        16       2171        ES   ES   ES\n",
      "52        17          0        EW   SS   HK\n",
      "53        17          0        NS   SS   NK\n",
      "54        17       2171        ES   ES   ES\n",
      "55        18          0        EW   SS   CK\n",
      "56        18          0        NS   SS   CK\n",
      "57        18       2171        ES   ES   ES\n"
     ]
    }
   ],
   "source": [
    "import pandas as pd\n",
    "import numpy as np\n",
    "\n",
    "df = pd.read_csv('train_labels.csv')\n",
    "\n",
    "print(df.to_string()) "
   ]
  }
 ],
 "metadata": {
  "kernelspec": {
   "display_name": "Python 3",
   "language": "python",
   "name": "python3"
  },
  "language_info": {
   "codemirror_mode": {
    "name": "ipython",
    "version": 3
   },
   "file_extension": ".py",
   "mimetype": "text/x-python",
   "name": "python",
   "nbconvert_exporter": "python",
   "pygments_lexer": "ipython3",
   "version": "3.10.12"
  }
 },
 "nbformat": 4,
 "nbformat_minor": 2
}
